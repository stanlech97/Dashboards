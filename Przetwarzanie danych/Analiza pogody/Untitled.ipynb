{
 "cells": [
  {
   "cell_type": "code",
   "execution_count": 55,
   "id": "806c8909",
   "metadata": {},
   "outputs": [
    {
     "name": "stdout",
     "output_type": "stream",
     "text": [
      "1.4.4\n"
     ]
    }
   ],
   "source": [
    "import matplotlib.pyplot as plt\n",
    "import matplotlib as mpl \n",
    "import pandas \n",
    "import numpy as np\n",
    "import random\n",
    "import string\n",
    "from sklearn import preprocessing\n",
    "from sklearn.preprocessing import OneHotEncoder\n",
    "print(pandas.__version__)"
   ]
  },
  {
   "cell_type": "code",
   "execution_count": 57,
   "id": "e9185535",
   "metadata": {},
   "outputs": [
    {
     "name": "stdout",
     "output_type": "stream",
     "text": [
      "       Stacja        Data   Godzina zjawisko  Zachmurzenia  Cisnienie\n",
      "0       12570  01.06.2020  00:00:00     Mgła             6     1017.7\n",
      "1       12560  01.06.2020  00:00:00     Mgła             6     1018.6\n",
      "2       12570  01.06.2020  01:00:00     Mgła             2     1017.6\n",
      "3       12560  01.06.2020  01:00:00     Mgła             5     1018.6\n",
      "4       12566  01.06.2020  01:00:00     Mgła             4     1018.2\n",
      "...       ...         ...       ...      ...           ...        ...\n",
      "11269   12226  31.08.2020  22:00:00     Mgła             0     1018.4\n",
      "11270   12226  31.08.2020  23:00:00     Mgła             0     1018.5\n",
      "11271   12454  31.08.2020  21:00:00     Mgła             6     1016.1\n",
      "11272   12454  31.08.2020  22:00:00     Mgła             7     1016.1\n",
      "11273   12454  31.08.2020  23:00:00     Mgła             7     1015.8\n",
      "\n",
      "[11274 rows x 6 columns]\n"
     ]
    }
   ],
   "source": [
    "df = pandas.read_csv('DanePogoda.csv', sep=';')\n",
    "print(df)"
   ]
  },
  {
   "cell_type": "code",
   "execution_count": 58,
   "id": "f457e6c0",
   "metadata": {},
   "outputs": [],
   "source": [
    "df[\"Godzina\"] = df[\"Godzina\"].mask((df[\"Godzina\"] >= \"21:00:00\") | (df[\"Godzina\"] <= \"05:00:00\") ,\"noc\")\n",
    "df[\"Godzina\"] = df[\"Godzina\"].mask((df[\"Godzina\"] >= \"06:00:00\") & (df[\"Godzina\"] <= \"17:00:00\") ,\"rano\")\n",
    "df[\"Godzina\"] = df[\"Godzina\"].mask((df[\"Godzina\"] >= \"18:00:00\") & (df[\"Godzina\"] <= \"20:00:00\") ,\"wieczór\")"
   ]
  },
  {
   "cell_type": "code",
   "execution_count": 59,
   "id": "97964835",
   "metadata": {},
   "outputs": [
    {
     "name": "stdout",
     "output_type": "stream",
     "text": [
      "       Stacja        Data Godzina zjawisko  Zachmurzenia  Cisnienie\n",
      "0       12570  01.06.2020     noc     Mgła             6     1017.7\n",
      "1       12560  01.06.2020     noc     Mgła             6     1018.6\n",
      "2       12570  01.06.2020     noc     Mgła             2     1017.6\n",
      "3       12560  01.06.2020     noc     Mgła             5     1018.6\n",
      "4       12566  01.06.2020     noc     Mgła             4     1018.2\n",
      "...       ...         ...     ...      ...           ...        ...\n",
      "11269   12226  31.08.2020     noc     Mgła             0     1018.4\n",
      "11270   12226  31.08.2020     noc     Mgła             0     1018.5\n",
      "11271   12454  31.08.2020     noc     Mgła             6     1016.1\n",
      "11272   12454  31.08.2020     noc     Mgła             7     1016.1\n",
      "11273   12454  31.08.2020     noc     Mgła             7     1015.8\n",
      "\n",
      "[11274 rows x 6 columns]\n"
     ]
    }
   ],
   "source": [
    "print (df)"
   ]
  },
  {
   "cell_type": "code",
   "execution_count": 60,
   "id": "fabfa72b",
   "metadata": {},
   "outputs": [
    {
     "name": "stdout",
     "output_type": "stream",
     "text": [
      "       Stacja        Data Godzina zjawisko Zachmurzenia  Cisnienie\n",
      "0       12570  01.06.2020     noc     Mgła         duże     1017.7\n",
      "1       12560  01.06.2020     noc     Mgła         duże     1018.6\n",
      "2       12570  01.06.2020     noc     Mgła         małe     1017.6\n",
      "3       12560  01.06.2020     noc     Mgła  umiarkowane     1018.6\n",
      "4       12566  01.06.2020     noc     Mgła  umiarkowane     1018.2\n",
      "...       ...         ...     ...      ...          ...        ...\n",
      "11269   12226  31.08.2020     noc     Mgła         Brak     1018.4\n",
      "11270   12226  31.08.2020     noc     Mgła         Brak     1018.5\n",
      "11271   12454  31.08.2020     noc     Mgła         duże     1016.1\n",
      "11272   12454  31.08.2020     noc     Mgła         duże     1016.1\n",
      "11273   12454  31.08.2020     noc     Mgła         duże     1015.8\n",
      "\n",
      "[11274 rows x 6 columns]\n"
     ]
    }
   ],
   "source": [
    "for index, row in df.iterrows():\n",
    "    if (row['Zachmurzenia'] == 0):\n",
    "        df.loc[index, 'Zachmurzenia'] = 'Brak'\n",
    "    elif ((row['Zachmurzenia'] >= 1) & (row['Zachmurzenia'] <= 3)):\n",
    "        df.loc[index, 'Zachmurzenia'] = 'małe'\n",
    "    elif ((row['Zachmurzenia'] >= 4) & (row['Zachmurzenia'] <= 5)):\n",
    "        df.loc[index, 'Zachmurzenia'] = 'umiarkowane'\n",
    "    elif ((row['Zachmurzenia'] >= 6) & (row['Zachmurzenia'] <= 7)):\n",
    "        df.loc[index, 'Zachmurzenia'] = 'duże'\n",
    "    elif (row['Zachmurzenia'] == 8):\n",
    "        df.loc[index, 'Zachmurzenia'] = 'całkowite'\n",
    "\n",
    "print(df)\n"
   ]
  },
  {
   "cell_type": "code",
   "execution_count": 76,
   "id": "0ac4dab9",
   "metadata": {},
   "outputs": [
    {
     "name": "stdout",
     "output_type": "stream",
     "text": [
      "       Stacja        Data Godzina zjawisko Zachmurzenia  Cisnienie  \\\n",
      "0       12570  01.06.2020     noc     Mgła         duże     1017.7   \n",
      "1       12560  01.06.2020     noc     Mgła         duże     1018.6   \n",
      "2       12570  01.06.2020     noc     Mgła         małe     1017.6   \n",
      "3       12560  01.06.2020     noc     Mgła  umiarkowane     1018.6   \n",
      "4       12566  01.06.2020     noc     Mgła  umiarkowane     1018.2   \n",
      "...       ...         ...     ...      ...          ...        ...   \n",
      "11269   12226  31.08.2020     noc     Mgła         Brak     1018.4   \n",
      "11270   12226  31.08.2020     noc     Mgła         Brak     1018.5   \n",
      "11271   12454  31.08.2020     noc     Mgła         duże     1016.1   \n",
      "11272   12454  31.08.2020     noc     Mgła         duże     1016.1   \n",
      "11273   12454  31.08.2020     noc     Mgła         duże     1015.8   \n",
      "\n",
      "       zjawiskoCat  \n",
      "0                2  \n",
      "1                2  \n",
      "2                2  \n",
      "3                2  \n",
      "4                2  \n",
      "...            ...  \n",
      "11269            2  \n",
      "11270            2  \n",
      "11271            2  \n",
      "11272            2  \n",
      "11273            2  \n",
      "\n",
      "[11274 rows x 7 columns]\n",
      "[0 1 2]\n"
     ]
    }
   ],
   "source": [
    "df[\"zjawisko\"] = df[\"zjawisko\"].astype('category')\n",
    "df[\"zjawiskoCat\"] = df[\"zjawisko\"].cat.codes\n",
    "print(df)\n",
    "\n",
    "y = df[\"zjawiskoCat\"].to_numpy()\n",
    "y = y.reshape(-1, 1)\n",
    "print(np.unique(y))\n",
    "enkoder = OneHotEncoder(handle_unknown='ignore')\n",
    "zjawiska = pd.DataFrame(enkoder.fit_transform(y))\n",
    "print(z)\n"
   ]
  },
  {
   "cell_type": "code",
   "execution_count": 69,
   "id": "1114e69e",
   "metadata": {},
   "outputs": [
    {
     "name": "stdout",
     "output_type": "stream",
     "text": [
      "     Nazwa  Kategoria              0\n",
      "0  Gruszka          1    (0, 1)\\t1.0\n",
      "1    Banan          0    (0, 0)\\t1.0\n",
      "2    Banan          0    (0, 0)\\t1.0\n"
     ]
    }
   ],
   "source": [
    "Owoce = ('Gruszka','Banan','Banan')\n",
    "Owoce = pd.DataFrame(Owoce, columns=['Nazwa'])\n",
    "Owoce['Nazwa'] = Owoce['Nazwa'].astype('category')\n",
    "Owoce['Kategoria'] = Owoce['Nazwa'].cat.codes\n",
    "\n",
    "a = np.array(Owoce[\"Kategoria\"]).reshape(-1, 1)\n",
    "enkoder = OneHotEncoder(handle_unknown='ignore')\n",
    "zjawiska = pd.DataFrame(enkoder.fit_transform(a))\n",
    "Owoce = Owoce.join(zjawiska)\n",
    "print(Owoce)"
   ]
  },
  {
   "cell_type": "code",
   "execution_count": null,
   "id": "ac583fc8",
   "metadata": {},
   "outputs": [],
   "source": []
  }
 ],
 "metadata": {
  "kernelspec": {
   "display_name": "Python 3 (ipykernel)",
   "language": "python",
   "name": "python3"
  },
  "language_info": {
   "codemirror_mode": {
    "name": "ipython",
    "version": 3
   },
   "file_extension": ".py",
   "mimetype": "text/x-python",
   "name": "python",
   "nbconvert_exporter": "python",
   "pygments_lexer": "ipython3",
   "version": "3.9.13"
  }
 },
 "nbformat": 4,
 "nbformat_minor": 5
}
